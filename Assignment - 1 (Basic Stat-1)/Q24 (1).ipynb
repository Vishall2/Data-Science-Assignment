{
 "cells": [
  {
   "cell_type": "code",
   "execution_count": 3,
   "metadata": {},
   "outputs": [],
   "source": [
    "from scipy import stats\n",
    "from scipy.stats import norm"
   ]
  },
  {
   "cell_type": "code",
   "execution_count": 12,
   "metadata": {},
   "outputs": [
    {
     "name": "stdout",
     "output_type": "stream",
     "text": [
      "-0.1111111111111111\n"
     ]
    }
   ],
   "source": [
    "pop_mean=270\n",
    "sample_size=18\n",
    "sample_mean=260\n",
    "standard_deviation=90\n",
    "standard_error = standard_deviation\n",
    "# p.sqrt(sample_size)\n",
    "t_stat = (sample_mean-pop_mean)/standard_error\n",
    "\n",
    "print(t_stat)"
   ]
  },
  {
   "cell_type": "code",
   "execution_count": 14,
   "metadata": {},
   "outputs": [
    {
     "name": "stdout",
     "output_type": "stream",
     "text": [
      "18.644853626951473\n"
     ]
    }
   ],
   "source": [
    "degrees_of_freedom=sample_size-1\n",
    "alpha=0.05\n",
    "critical_value=norm.ppf(1.0-alpha,degrees_of_freedom)\n",
    "print(critical_value)"
   ]
  },
  {
   "cell_type": "code",
   "execution_count": 15,
   "metadata": {},
   "outputs": [
    {
     "name": "stdout",
     "output_type": "stream",
     "text": [
      "2.0\n"
     ]
    }
   ],
   "source": [
    "probability_value = (1-norm.cdf(abs(t_stat),degrees_of_freedom))*2.0\n",
    "print(probability_value)"
   ]
  },
  {
   "cell_type": "code",
   "execution_count": 17,
   "metadata": {},
   "outputs": [
    {
     "name": "stdout",
     "output_type": "stream",
     "text": [
      "Accept null hypothesis that the means are equal.\n"
     ]
    }
   ],
   "source": [
    "# interpret via critical value\n",
    "\n",
    "if abs(t_stat) <= critical_value:\n",
    "    print('Accept null hypothesis that the means are equal.')\n",
    "else:\n",
    "    print('Reject the null hypothesis that means are equal.')\n",
    "    "
   ]
  },
  {
   "cell_type": "code",
   "execution_count": 20,
   "metadata": {},
   "outputs": [
    {
     "name": "stdout",
     "output_type": "stream",
     "text": [
      "Accept null hypothesis that the means are equal.\n"
     ]
    }
   ],
   "source": [
    "# interpret via p-value \n",
    "if probability_value > alpha:\n",
    "    print('Accept null hypothesis that the means are equal.')\n",
    "else:\n",
    "        print('Reject the null hypothesis that the means are equal.')\n",
    "        "
   ]
  },
  {
   "cell_type": "code",
   "execution_count": 21,
   "metadata": {},
   "outputs": [
    {
     "name": "stdout",
     "output_type": "stream",
     "text": [
      "-1.6448536269514729\n",
      "[ 0.78446981 -0.06664831  0.12315951  0.60577177  0.88458778 -1.80822419\n",
      " -0.12401141  1.11103556 -0.19904852  2.47358883 -1.81760823 -0.55980358\n",
      " -1.68695583  0.91773354  0.75383987 -0.26652229  0.8857959  -0.58655037\n",
      " -0.16591704  0.93936158  1.55408792 -0.48608659 -0.16461788  0.0730452\n",
      "  0.79814729  1.23126385  0.28858715 -0.16942158  0.14922997 -1.48312491\n",
      "  0.03056056 -1.69607905  0.40107458  1.33630496 -1.51999448  0.64219051\n",
      "  0.80499907  1.12921835 -2.15804769 -0.84250416 -0.11133268  0.54186691\n",
      "  0.2667974  -0.42376319  0.88392606 -0.09181696 -1.06173055  1.16886495\n",
      " -0.7310474   1.6952509   0.18313798 -0.73009642 -0.10363163 -0.71072755\n",
      "  1.22799377 -1.83649054 -0.01270582 -0.41416078  0.36161532 -1.25136052\n",
      "  0.30554818  0.15560003 -0.27005951  0.07652446  0.2507437   0.76166239\n",
      "  0.22836017  1.07833979  0.07073074  1.45954157 -1.14208382  0.75577682\n",
      "  1.15210114  0.34193625  0.39355105  0.13034041 -0.38343316 -0.39602241\n",
      " -0.06284964 -0.78257035 -1.12710331  1.68358053 -2.1958049   0.29781882\n",
      " -0.41948025 -0.29009984  0.15814036 -0.02847935  0.4412289   1.13433253]\n"
     ]
    }
   ],
   "source": [
    "print(norm.ppf(0.05))\n",
    "print(norm.rvs(size=90))"
   ]
  },
  {
   "cell_type": "code",
   "execution_count": null,
   "metadata": {},
   "outputs": [],
   "source": []
  }
 ],
 "metadata": {
  "kernelspec": {
   "display_name": "Python 3",
   "language": "python",
   "name": "python3"
  },
  "language_info": {
   "codemirror_mode": {
    "name": "ipython",
    "version": 3
   },
   "file_extension": ".py",
   "mimetype": "text/x-python",
   "name": "python",
   "nbconvert_exporter": "python",
   "pygments_lexer": "ipython3",
   "version": "3.8.5"
  }
 },
 "nbformat": 4,
 "nbformat_minor": 4
}
